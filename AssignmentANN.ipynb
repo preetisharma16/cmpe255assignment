{
  "nbformat": 4,
  "nbformat_minor": 5,
  "metadata": {
    "kernelspec": {
      "display_name": "Python 3 (ipykernel)",
      "language": "python",
      "name": "python3"
    },
    "language_info": {
      "codemirror_mode": {
        "name": "ipython",
        "version": 3
      },
      "file_extension": ".py",
      "mimetype": "text/x-python",
      "name": "python",
      "nbconvert_exporter": "python",
      "pygments_lexer": "ipython3",
      "version": "3.8.12"
    },
    "colab": {
      "name": "ANN-Algorithm.ipynb",
      "provenance": [],
      "collapsed_sections": [],
      "toc_visible": true
    }
  },
  "cells": [
    {
      "cell_type": "markdown",
      "metadata": {
        "id": "GTmuE_GgoO90"
      },
      "source": [
        "**Dataset**: \n",
        "https://github.com/groveco/content-engine/blob/master/sample-data.csv\n",
        "\n",
        "\n",
        "**References**: \n",
        "https://github.com/eyaltrabelsi/my-notebooks/tree/master/Lectures/search_in_practice-approximate_nearest_neighbors"
      ],
      "id": "GTmuE_GgoO90"
    },
    {
      "cell_type": "markdown",
      "metadata": {
        "id": "FMtXNLx3nH9Y"
      },
      "source": [
        "## Approximate nearest neighbor search Assignment"
      ],
      "id": "FMtXNLx3nH9Y"
    },
    {
      "cell_type": "code",
      "metadata": {
        "colab": {
          "base_uri": "https://localhost:8080/"
        },
        "id": "H59xly54gLHu",
        "outputId": "2d90f20d-0bbd-46c5-ba32-77908e5a3fff"
      },
      "source": [
        "!pip install texthero\n",
        "!pip install libomp-dev\n",
        "!pip install faiss\n",
        "!pip install annoy\n",
        "!pip install faiss-cpu --no-cache"
      ],
      "id": "H59xly54gLHu",
      "execution_count": 82,
      "outputs": [
        {
          "output_type": "stream",
          "name": "stdout",
          "text": [
            "Requirement already satisfied: texthero in /usr/local/lib/python3.7/dist-packages (1.1.0)\n",
            "Requirement already satisfied: plotly>=4.2.0 in /usr/local/lib/python3.7/dist-packages (from texthero) (4.4.1)\n",
            "Requirement already satisfied: numpy>=1.17 in /usr/local/lib/python3.7/dist-packages (from texthero) (1.19.5)\n",
            "Requirement already satisfied: gensim<4.0,>=3.6.0 in /usr/local/lib/python3.7/dist-packages (from texthero) (3.6.0)\n",
            "Requirement already satisfied: unidecode>=1.1.1 in /usr/local/lib/python3.7/dist-packages (from texthero) (1.3.2)\n",
            "Requirement already satisfied: pandas>=1.0.2 in /usr/local/lib/python3.7/dist-packages (from texthero) (1.1.5)\n",
            "Requirement already satisfied: nltk>=3.3 in /usr/local/lib/python3.7/dist-packages (from texthero) (3.6.5)\n",
            "Requirement already satisfied: scikit-learn>=0.22 in /usr/local/lib/python3.7/dist-packages (from texthero) (1.0.1)\n",
            "Requirement already satisfied: wordcloud>=1.5.0 in /usr/local/lib/python3.7/dist-packages (from texthero) (1.5.0)\n",
            "Requirement already satisfied: matplotlib>=3.1.0 in /usr/local/lib/python3.7/dist-packages (from texthero) (3.2.2)\n",
            "Requirement already satisfied: tqdm>=4.3 in /usr/local/lib/python3.7/dist-packages (from texthero) (4.62.3)\n",
            "Requirement already satisfied: spacy<3.0.0 in /usr/local/lib/python3.7/dist-packages (from texthero) (2.2.4)\n",
            "Requirement already satisfied: smart-open>=1.2.1 in /usr/local/lib/python3.7/dist-packages (from gensim<4.0,>=3.6.0->texthero) (5.2.1)\n",
            "Requirement already satisfied: scipy>=0.18.1 in /usr/local/lib/python3.7/dist-packages (from gensim<4.0,>=3.6.0->texthero) (1.4.1)\n",
            "Requirement already satisfied: six>=1.5.0 in /usr/local/lib/python3.7/dist-packages (from gensim<4.0,>=3.6.0->texthero) (1.15.0)\n",
            "Requirement already satisfied: cycler>=0.10 in /usr/local/lib/python3.7/dist-packages (from matplotlib>=3.1.0->texthero) (0.11.0)\n",
            "Requirement already satisfied: kiwisolver>=1.0.1 in /usr/local/lib/python3.7/dist-packages (from matplotlib>=3.1.0->texthero) (1.3.2)\n",
            "Requirement already satisfied: pyparsing!=2.0.4,!=2.1.2,!=2.1.6,>=2.0.1 in /usr/local/lib/python3.7/dist-packages (from matplotlib>=3.1.0->texthero) (3.0.6)\n",
            "Requirement already satisfied: python-dateutil>=2.1 in /usr/local/lib/python3.7/dist-packages (from matplotlib>=3.1.0->texthero) (2.8.2)\n",
            "Requirement already satisfied: joblib in /usr/local/lib/python3.7/dist-packages (from nltk>=3.3->texthero) (1.1.0)\n",
            "Requirement already satisfied: regex>=2021.8.3 in /usr/local/lib/python3.7/dist-packages (from nltk>=3.3->texthero) (2021.11.10)\n",
            "Requirement already satisfied: click in /usr/local/lib/python3.7/dist-packages (from nltk>=3.3->texthero) (7.1.2)\n",
            "Requirement already satisfied: pytz>=2017.2 in /usr/local/lib/python3.7/dist-packages (from pandas>=1.0.2->texthero) (2018.9)\n",
            "Requirement already satisfied: retrying>=1.3.3 in /usr/local/lib/python3.7/dist-packages (from plotly>=4.2.0->texthero) (1.3.3)\n",
            "Requirement already satisfied: threadpoolctl>=2.0.0 in /usr/local/lib/python3.7/dist-packages (from scikit-learn>=0.22->texthero) (3.0.0)\n",
            "Requirement already satisfied: wasabi<1.1.0,>=0.4.0 in /usr/local/lib/python3.7/dist-packages (from spacy<3.0.0->texthero) (0.8.2)\n",
            "Requirement already satisfied: requests<3.0.0,>=2.13.0 in /usr/local/lib/python3.7/dist-packages (from spacy<3.0.0->texthero) (2.23.0)\n",
            "Requirement already satisfied: cymem<2.1.0,>=2.0.2 in /usr/local/lib/python3.7/dist-packages (from spacy<3.0.0->texthero) (2.0.6)\n",
            "Requirement already satisfied: srsly<1.1.0,>=1.0.2 in /usr/local/lib/python3.7/dist-packages (from spacy<3.0.0->texthero) (1.0.5)\n",
            "Requirement already satisfied: murmurhash<1.1.0,>=0.28.0 in /usr/local/lib/python3.7/dist-packages (from spacy<3.0.0->texthero) (1.0.6)\n",
            "Requirement already satisfied: thinc==7.4.0 in /usr/local/lib/python3.7/dist-packages (from spacy<3.0.0->texthero) (7.4.0)\n",
            "Requirement already satisfied: catalogue<1.1.0,>=0.0.7 in /usr/local/lib/python3.7/dist-packages (from spacy<3.0.0->texthero) (1.0.0)\n",
            "Requirement already satisfied: plac<1.2.0,>=0.9.6 in /usr/local/lib/python3.7/dist-packages (from spacy<3.0.0->texthero) (1.1.3)\n",
            "Requirement already satisfied: preshed<3.1.0,>=3.0.2 in /usr/local/lib/python3.7/dist-packages (from spacy<3.0.0->texthero) (3.0.6)\n",
            "Requirement already satisfied: setuptools in /usr/local/lib/python3.7/dist-packages (from spacy<3.0.0->texthero) (57.4.0)\n",
            "Requirement already satisfied: blis<0.5.0,>=0.4.0 in /usr/local/lib/python3.7/dist-packages (from spacy<3.0.0->texthero) (0.4.1)\n",
            "Requirement already satisfied: importlib-metadata>=0.20 in /usr/local/lib/python3.7/dist-packages (from catalogue<1.1.0,>=0.0.7->spacy<3.0.0->texthero) (4.8.2)\n",
            "Requirement already satisfied: zipp>=0.5 in /usr/local/lib/python3.7/dist-packages (from importlib-metadata>=0.20->catalogue<1.1.0,>=0.0.7->spacy<3.0.0->texthero) (3.6.0)\n",
            "Requirement already satisfied: typing-extensions>=3.6.4 in /usr/local/lib/python3.7/dist-packages (from importlib-metadata>=0.20->catalogue<1.1.0,>=0.0.7->spacy<3.0.0->texthero) (3.10.0.2)\n",
            "Requirement already satisfied: urllib3!=1.25.0,!=1.25.1,<1.26,>=1.21.1 in /usr/local/lib/python3.7/dist-packages (from requests<3.0.0,>=2.13.0->spacy<3.0.0->texthero) (1.24.3)\n",
            "Requirement already satisfied: chardet<4,>=3.0.2 in /usr/local/lib/python3.7/dist-packages (from requests<3.0.0,>=2.13.0->spacy<3.0.0->texthero) (3.0.4)\n",
            "Requirement already satisfied: certifi>=2017.4.17 in /usr/local/lib/python3.7/dist-packages (from requests<3.0.0,>=2.13.0->spacy<3.0.0->texthero) (2021.10.8)\n",
            "Requirement already satisfied: idna<3,>=2.5 in /usr/local/lib/python3.7/dist-packages (from requests<3.0.0,>=2.13.0->spacy<3.0.0->texthero) (2.10)\n",
            "Requirement already satisfied: pillow in /usr/local/lib/python3.7/dist-packages (from wordcloud>=1.5.0->texthero) (7.1.2)\n",
            "\u001b[31mERROR: Could not find a version that satisfies the requirement libomp-dev (from versions: none)\u001b[0m\n",
            "\u001b[31mERROR: No matching distribution found for libomp-dev\u001b[0m\n",
            "Requirement already satisfied: faiss in /usr/local/lib/python3.7/dist-packages (1.5.3)\n",
            "Requirement already satisfied: numpy in /usr/local/lib/python3.7/dist-packages (from faiss) (1.19.5)\n",
            "Requirement already satisfied: annoy in /root/.local/lib/python3.7/site-packages (1.17.0)\n",
            "Requirement already satisfied: faiss-cpu in /usr/local/lib/python3.7/dist-packages (1.7.1.post3)\n"
          ]
        }
      ]
    },
    {
      "cell_type": "markdown",
      "metadata": {
        "id": "fvAFu_SGnCvn"
      },
      "source": [
        ""
      ],
      "id": "fvAFu_SGnCvn"
    },
    {
      "cell_type": "markdown",
      "metadata": {
        "id": "v-wBvq6QnE1U"
      },
      "source": [
        ""
      ],
      "id": "v-wBvq6QnE1U"
    },
    {
      "cell_type": "code",
      "metadata": {
        "id": "0e31337d-442f-4adc-ba38-10f844a36728"
      },
      "source": [
        "import pandas as pd\n",
        "import numpy as np\n",
        "import re\n",
        "\n",
        "import texthero as hero\n",
        "from texthero import preprocessing\n",
        "import os\n",
        "from google.colab import drive\n",
        "from geopy.geocoders import Nominatim"
      ],
      "id": "0e31337d-442f-4adc-ba38-10f844a36728",
      "execution_count": 83,
      "outputs": []
    },
    {
      "cell_type": "markdown",
      "metadata": {
        "id": "q26djkQESImQ"
      },
      "source": [
        "#**Load and pre-processing data**"
      ],
      "id": "q26djkQESImQ"
    },
    {
      "cell_type": "code",
      "metadata": {
        "id": "467e28a2-5d73-4467-a235-9bce78ef2e78",
        "colab": {
          "base_uri": "https://localhost:8080/",
          "height": 221
        },
        "outputId": "37e55afa-6959-4364-f421-e101645acc97"
      },
      "source": [
        "drive.mount('/content/drive')\n",
        "\n",
        "\n",
        "DIRECTORY = \"/content/drive/Shareddrives/dataset\"\n",
        "\n",
        "if os.getcwd() != DIRECTORY:\n",
        "  os.chdir(DIRECTORY)\n",
        "\n",
        "#dataset = pd.read_csv('./data1/customers.csv')\n",
        "\n",
        "\n",
        "dataset = pd.read_csv('./data1/sample-data.csv')\n",
        "dataset.head()"
      ],
      "id": "467e28a2-5d73-4467-a235-9bce78ef2e78",
      "execution_count": 84,
      "outputs": [
        {
          "output_type": "stream",
          "name": "stdout",
          "text": [
            "Drive already mounted at /content/drive; to attempt to forcibly remount, call drive.mount(\"/content/drive\", force_remount=True).\n"
          ]
        },
        {
          "output_type": "execute_result",
          "data": {
            "text/html": [
              "<div>\n",
              "<style scoped>\n",
              "    .dataframe tbody tr th:only-of-type {\n",
              "        vertical-align: middle;\n",
              "    }\n",
              "\n",
              "    .dataframe tbody tr th {\n",
              "        vertical-align: top;\n",
              "    }\n",
              "\n",
              "    .dataframe thead th {\n",
              "        text-align: right;\n",
              "    }\n",
              "</style>\n",
              "<table border=\"1\" class=\"dataframe\">\n",
              "  <thead>\n",
              "    <tr style=\"text-align: right;\">\n",
              "      <th></th>\n",
              "      <th>id</th>\n",
              "      <th>description</th>\n",
              "    </tr>\n",
              "  </thead>\n",
              "  <tbody>\n",
              "    <tr>\n",
              "      <th>0</th>\n",
              "      <td>1</td>\n",
              "      <td>Active classic boxers - There's a reason why o...</td>\n",
              "    </tr>\n",
              "    <tr>\n",
              "      <th>1</th>\n",
              "      <td>2</td>\n",
              "      <td>Active sport boxer briefs - Skinning up Glory ...</td>\n",
              "    </tr>\n",
              "    <tr>\n",
              "      <th>2</th>\n",
              "      <td>3</td>\n",
              "      <td>Active sport briefs - These superbreathable no...</td>\n",
              "    </tr>\n",
              "    <tr>\n",
              "      <th>3</th>\n",
              "      <td>4</td>\n",
              "      <td>Alpine guide pants - Skin in, climb ice, switc...</td>\n",
              "    </tr>\n",
              "    <tr>\n",
              "      <th>4</th>\n",
              "      <td>5</td>\n",
              "      <td>Alpine wind jkt - On high ridges, steep ice an...</td>\n",
              "    </tr>\n",
              "  </tbody>\n",
              "</table>\n",
              "</div>"
            ],
            "text/plain": [
              "   id                                        description\n",
              "0   1  Active classic boxers - There's a reason why o...\n",
              "1   2  Active sport boxer briefs - Skinning up Glory ...\n",
              "2   3  Active sport briefs - These superbreathable no...\n",
              "3   4  Alpine guide pants - Skin in, climb ice, switc...\n",
              "4   5  Alpine wind jkt - On high ridges, steep ice an..."
            ]
          },
          "metadata": {},
          "execution_count": 84
        }
      ]
    },
    {
      "cell_type": "markdown",
      "metadata": {
        "id": "8eWmoKYtSP9u"
      },
      "source": [
        "##**Clean text**"
      ],
      "id": "8eWmoKYtSP9u"
    },
    {
      "cell_type": "code",
      "metadata": {
        "id": "95463ac8-b3ed-4309-91f9-f6354842b980"
      },
      "source": [
        "custom_pipeline = [preprocessing.fillna,\n",
        "                   preprocessing.remove_whitespace,\n",
        "                   preprocessing.remove_diacritics,\n",
        "                   preprocessing.remove_punctuation,\n",
        "                   preprocessing.remove_stopwords,\n",
        "                   preprocessing.remove_digits,\n",
        "                   preprocessing.lowercase\n",
        "                  ]\n",
        "def clean_html_tags(text):\n",
        "    text = re.sub('<.*?>','',text)\n",
        "    return text "
      ],
      "id": "95463ac8-b3ed-4309-91f9-f6354842b980",
      "execution_count": 85,
      "outputs": []
    },
    {
      "cell_type": "code",
      "metadata": {
        "id": "57849c36-00c9-420a-8a3e-cd30521293ff",
        "colab": {
          "base_uri": "https://localhost:8080/",
          "height": 105
        },
        "outputId": "a9518820-cee5-4156-bb99-0b8c7ea253ae"
      },
      "source": [
        "dataset['description']=dataset['description'].apply(lambda x: clean_html_tags(x))\n",
        "dataset['description'] = hero.clean(dataset['description'], custom_pipeline)\n",
        "dataset['description'][0]"
      ],
      "id": "57849c36-00c9-420a-8a3e-cd30521293ff",
      "execution_count": 86,
      "outputs": [
        {
          "output_type": "execute_result",
          "data": {
            "application/vnd.google.colaboratory.intrinsic+json": {
              "type": "string"
            },
            "text/plain": [
              "'active classic boxers   there   reason   boxers   cult favorite    keep  cool  especially  sticky situations  the quick drying  lightweight underwear takes  minimal space   travel pack  an exposed  brushed waistband offers next  skin softness  five panel construction   traditional boxer back   classic fit    functional fly  made      oz    recycled polyester  moisture wicking performance  inseam  size m          recyclable   common threads recycling program details   silky capilene   fabric  ultralight  breathable  quick  dry   exposed  brushed elastic waistband  comfort    panel construction  traditional boxer back  inseam  size m         fabric      oz     recycled polyester  gladiodor natural odor control   garment  recyclable   common threads recycling programweight    g      oz made  mexico '"
            ]
          },
          "metadata": {},
          "execution_count": 86
        }
      ]
    },
    {
      "cell_type": "markdown",
      "metadata": {
        "id": "u4R5Mz82SVpi"
      },
      "source": [
        "##**Vectorizing the text data**"
      ],
      "id": "u4R5Mz82SVpi"
    },
    {
      "cell_type": "code",
      "metadata": {
        "id": "67298dc5-0a1f-4bd0-a419-3a048c71d428",
        "colab": {
          "base_uri": "https://localhost:8080/"
        },
        "outputId": "60c76f03-3528-470b-81dd-fb7eeed55246"
      },
      "source": [
        "from sklearn.feature_extraction.text import TfidfVectorizer\n",
        "\n",
        "tfidf = TfidfVectorizer(analyzer='word',ngram_range=(1, 3),min_df=0,stop_words='english')\n",
        "X_tfidf = tfidf.fit_transform(dataset['description'])\n",
        "X_tfidf"
      ],
      "id": "67298dc5-0a1f-4bd0-a419-3a048c71d428",
      "execution_count": 87,
      "outputs": [
        {
          "output_type": "execute_result",
          "data": {
            "text/plain": [
              "<500x49811 sparse matrix of type '<class 'numpy.float64'>'\n",
              "\twith 124214 stored elements in Compressed Sparse Row format>"
            ]
          },
          "metadata": {},
          "execution_count": 87
        }
      ]
    },
    {
      "cell_type": "code",
      "metadata": {
        "id": "8c20b54c-64da-4c8e-9df7-45a12d35572a",
        "colab": {
          "base_uri": "https://localhost:8080/"
        },
        "outputId": "fe21343c-4faf-4879-e42b-feb2ba42e98b"
      },
      "source": [
        "vector = X_tfidf.toarray()\n",
        "vector[0].shape[0]"
      ],
      "id": "8c20b54c-64da-4c8e-9df7-45a12d35572a",
      "execution_count": 88,
      "outputs": [
        {
          "output_type": "execute_result",
          "data": {
            "text/plain": [
              "49811"
            ]
          },
          "metadata": {},
          "execution_count": 88
        }
      ]
    },
    {
      "cell_type": "markdown",
      "metadata": {
        "id": "2Od19jEJSisJ"
      },
      "source": [
        "#**Approximate nearest neighbor search**"
      ],
      "id": "2Od19jEJSisJ"
    },
    {
      "cell_type": "code",
      "metadata": {
        "id": "a4be8f8a-08fb-434d-bccd-2529e798e4be"
      },
      "source": [
        "import faiss    "
      ],
      "id": "a4be8f8a-08fb-434d-bccd-2529e798e4be",
      "execution_count": 89,
      "outputs": []
    },
    {
      "cell_type": "markdown",
      "metadata": {
        "id": "7kx2bT_lSswl"
      },
      "source": [
        "##**Locality-sensitive hashing**"
      ],
      "id": "7kx2bT_lSswl"
    },
    {
      "cell_type": "code",
      "metadata": {
        "id": "531ed5f2-91a2-4f2b-a1d5-b63086cbb249"
      },
      "source": [
        "class LSHIndex():\n",
        "    def __init__(self, vectors, labels):\n",
        "        self.dimention = vectors[0].shape[0]\n",
        "        self.vectors = vectors.astype('float32')\n",
        "        self.labels = labels\n",
        "\n",
        "\n",
        "    def build(self, num_bits=8):\n",
        "        self.index = faiss.IndexLSH(self.dimention,num_bits)\n",
        "        self.index.add(self.vectors)\n",
        "        \n",
        "    def query(self, vectors, k=10):\n",
        "        distances, indices = self.index.search(vectors, k) \n",
        "        return [self.labels[i] for i in indices[0]]"
      ],
      "id": "531ed5f2-91a2-4f2b-a1d5-b63086cbb249",
      "execution_count": 90,
      "outputs": []
    },
    {
      "cell_type": "code",
      "metadata": {
        "id": "881f5144-a02e-48f4-aa6b-02454757e31f",
        "colab": {
          "base_uri": "https://localhost:8080/"
        },
        "outputId": "e74c2ad8-2337-488d-ca3a-8081925b06f3"
      },
      "source": [
        "%%time\n",
        "lsh_index = LSHIndex(vector, dataset['id'])\n",
        "lsh_index.build()"
      ],
      "id": "881f5144-a02e-48f4-aa6b-02454757e31f",
      "execution_count": 91,
      "outputs": [
        {
          "output_type": "stream",
          "name": "stdout",
          "text": [
            "CPU times: user 193 ms, sys: 45.5 ms, total: 239 ms\n",
            "Wall time: 148 ms\n"
          ]
        }
      ]
    },
    {
      "cell_type": "code",
      "metadata": {
        "id": "d516249f-33b6-406f-8117-2472532b65c1",
        "colab": {
          "base_uri": "https://localhost:8080/",
          "height": 376
        },
        "outputId": "46ad47d4-e1e5-44b8-fc25-a22f0e1af68c"
      },
      "source": [
        "query_index = 1\n",
        "print(f\"The most simillar to item {dataset['id'][query_index]} are:\")\n",
        "items_list = lsh_index.query(np.array([vector[query_index]]).astype('float32'))\n",
        "dataset.loc[dataset['id'].isin(items_list)]"
      ],
      "id": "d516249f-33b6-406f-8117-2472532b65c1",
      "execution_count": 92,
      "outputs": [
        {
          "output_type": "stream",
          "name": "stdout",
          "text": [
            "The most simillar to item 2 are:\n"
          ]
        },
        {
          "output_type": "execute_result",
          "data": {
            "text/html": [
              "<div>\n",
              "<style scoped>\n",
              "    .dataframe tbody tr th:only-of-type {\n",
              "        vertical-align: middle;\n",
              "    }\n",
              "\n",
              "    .dataframe tbody tr th {\n",
              "        vertical-align: top;\n",
              "    }\n",
              "\n",
              "    .dataframe thead th {\n",
              "        text-align: right;\n",
              "    }\n",
              "</style>\n",
              "<table border=\"1\" class=\"dataframe\">\n",
              "  <thead>\n",
              "    <tr style=\"text-align: right;\">\n",
              "      <th></th>\n",
              "      <th>id</th>\n",
              "      <th>description</th>\n",
              "    </tr>\n",
              "  </thead>\n",
              "  <tbody>\n",
              "    <tr>\n",
              "      <th>1</th>\n",
              "      <td>2</td>\n",
              "      <td>active sport boxer briefs   skinning  glory re...</td>\n",
              "    </tr>\n",
              "    <tr>\n",
              "      <th>29</th>\n",
              "      <td>30</td>\n",
              "      <td>cotton board shorts   a classic  fabric  form ...</td>\n",
              "    </tr>\n",
              "    <tr>\n",
              "      <th>38</th>\n",
              "      <td>39</td>\n",
              "      <td>elias sweatshirt   the dirtbagger  complete wa...</td>\n",
              "    </tr>\n",
              "    <tr>\n",
              "      <th>42</th>\n",
              "      <td>43</td>\n",
              "      <td>gi ii pants   the travel tested  quick drying ...</td>\n",
              "    </tr>\n",
              "    <tr>\n",
              "      <th>83</th>\n",
              "      <td>84</td>\n",
              "      <td>lw travel pack   in  lifelong search   place  ...</td>\n",
              "    </tr>\n",
              "    <tr>\n",
              "      <th>187</th>\n",
              "      <td>188</td>\n",
              "      <td>inter continental pants   long   you  like  fl...</td>\n",
              "    </tr>\n",
              "    <tr>\n",
              "      <th>272</th>\n",
              "      <td>273</td>\n",
              "      <td>morning glory tights   this everyday essential...</td>\n",
              "    </tr>\n",
              "    <tr>\n",
              "      <th>290</th>\n",
              "      <td>291</td>\n",
              "      <td>print adour btm   adours   slightly scooped  l...</td>\n",
              "    </tr>\n",
              "    <tr>\n",
              "      <th>312</th>\n",
              "      <td>313</td>\n",
              "      <td>kamala dress   like  lotus flower   named    k...</td>\n",
              "    </tr>\n",
              "    <tr>\n",
              "      <th>340</th>\n",
              "      <td>341</td>\n",
              "      <td>cap   scoop   this silky top  designed  desert...</td>\n",
              "    </tr>\n",
              "  </tbody>\n",
              "</table>\n",
              "</div>"
            ],
            "text/plain": [
              "      id                                        description\n",
              "1      2  active sport boxer briefs   skinning  glory re...\n",
              "29    30  cotton board shorts   a classic  fabric  form ...\n",
              "38    39  elias sweatshirt   the dirtbagger  complete wa...\n",
              "42    43  gi ii pants   the travel tested  quick drying ...\n",
              "83    84  lw travel pack   in  lifelong search   place  ...\n",
              "187  188  inter continental pants   long   you  like  fl...\n",
              "272  273  morning glory tights   this everyday essential...\n",
              "290  291  print adour btm   adours   slightly scooped  l...\n",
              "312  313  kamala dress   like  lotus flower   named    k...\n",
              "340  341  cap   scoop   this silky top  designed  desert..."
            ]
          },
          "metadata": {},
          "execution_count": 92
        }
      ]
    },
    {
      "cell_type": "markdown",
      "metadata": {
        "id": "diY7mBipS2bR"
      },
      "source": [
        "##**Exhaustive Search**"
      ],
      "id": "diY7mBipS2bR"
    },
    {
      "cell_type": "code",
      "metadata": {
        "id": "9af7b5a1-9754-4292-9f48-cc99124a19a3"
      },
      "source": [
        "class BruteForceIndex():\n",
        "    def __init__(self, vectors, labels):\n",
        "        self.vectors = vectors.astype('float32')\n",
        "        self.labels = labels\n",
        "        self.index = faiss.IndexFlatL2(vectors[0].shape[0])\n",
        "        self.index.add(self.vectors)\n",
        "        \n",
        "    def query(self, vectors, k=10):\n",
        "        distances, indices = self.index.search(vectors, k) \n",
        "        return [self.labels[i] for i in indices[0]]"
      ],
      "id": "9af7b5a1-9754-4292-9f48-cc99124a19a3",
      "execution_count": 93,
      "outputs": []
    },
    {
      "cell_type": "code",
      "metadata": {
        "id": "2f2dc6dc-b16e-463e-86b9-97114433da27",
        "colab": {
          "base_uri": "https://localhost:8080/"
        },
        "outputId": "88628a6c-dd38-4dc3-a0b2-31a82bccf168"
      },
      "source": [
        "%%time\n",
        "es_index = BruteForceIndex(vector, dataset['id'])"
      ],
      "id": "2f2dc6dc-b16e-463e-86b9-97114433da27",
      "execution_count": 94,
      "outputs": [
        {
          "output_type": "stream",
          "name": "stdout",
          "text": [
            "CPU times: user 124 ms, sys: 30.8 ms, total: 155 ms\n",
            "Wall time: 91.4 ms\n"
          ]
        }
      ]
    },
    {
      "cell_type": "code",
      "metadata": {
        "id": "ffb19158-afd8-44f5-9cc8-c1c0009b38c7",
        "colab": {
          "base_uri": "https://localhost:8080/",
          "height": 376
        },
        "outputId": "99a33322-d8f3-43e5-958c-ce94538c5564"
      },
      "source": [
        "query_index = 1\n",
        "print(f\"The most simillar to item {dataset['id'][query_index]} are:\")\n",
        "items_list = es_index.query(np.array([vector[query_index]]).astype('float32'))\n",
        "dataset.loc[dataset['id'].isin(items_list)]"
      ],
      "id": "ffb19158-afd8-44f5-9cc8-c1c0009b38c7",
      "execution_count": 95,
      "outputs": [
        {
          "output_type": "stream",
          "name": "stdout",
          "text": [
            "The most simillar to item 2 are:\n"
          ]
        },
        {
          "output_type": "execute_result",
          "data": {
            "text/html": [
              "<div>\n",
              "<style scoped>\n",
              "    .dataframe tbody tr th:only-of-type {\n",
              "        vertical-align: middle;\n",
              "    }\n",
              "\n",
              "    .dataframe tbody tr th {\n",
              "        vertical-align: top;\n",
              "    }\n",
              "\n",
              "    .dataframe thead th {\n",
              "        text-align: right;\n",
              "    }\n",
              "</style>\n",
              "<table border=\"1\" class=\"dataframe\">\n",
              "  <thead>\n",
              "    <tr style=\"text-align: right;\">\n",
              "      <th></th>\n",
              "      <th>id</th>\n",
              "      <th>description</th>\n",
              "    </tr>\n",
              "  </thead>\n",
              "  <tbody>\n",
              "    <tr>\n",
              "      <th>0</th>\n",
              "      <td>1</td>\n",
              "      <td>active classic boxers   there   reason   boxer...</td>\n",
              "    </tr>\n",
              "    <tr>\n",
              "      <th>1</th>\n",
              "      <td>2</td>\n",
              "      <td>active sport boxer briefs   skinning  glory re...</td>\n",
              "    </tr>\n",
              "    <tr>\n",
              "      <th>2</th>\n",
              "      <td>3</td>\n",
              "      <td>active sport briefs   these superbreathable  f...</td>\n",
              "    </tr>\n",
              "    <tr>\n",
              "      <th>18</th>\n",
              "      <td>19</td>\n",
              "      <td>cap   boxer briefs   on bivy  belay   form fit...</td>\n",
              "    </tr>\n",
              "    <tr>\n",
              "      <th>164</th>\n",
              "      <td>165</td>\n",
              "      <td>barely bikini   better  going commando   petal...</td>\n",
              "    </tr>\n",
              "    <tr>\n",
              "      <th>298</th>\n",
              "      <td>299</td>\n",
              "      <td>active boy shorts   we  worn  versatile  femin...</td>\n",
              "    </tr>\n",
              "    <tr>\n",
              "      <th>299</th>\n",
              "      <td>300</td>\n",
              "      <td>active briefs   whether   beating  heat  bali ...</td>\n",
              "    </tr>\n",
              "    <tr>\n",
              "      <th>317</th>\n",
              "      <td>318</td>\n",
              "      <td>barely hipster   the barely hipster  form fitt...</td>\n",
              "    </tr>\n",
              "    <tr>\n",
              "      <th>493</th>\n",
              "      <td>494</td>\n",
              "      <td>active boxer briefs   a  fuss travel companion...</td>\n",
              "    </tr>\n",
              "    <tr>\n",
              "      <th>494</th>\n",
              "      <td>495</td>\n",
              "      <td>active briefs   these featherweight  quick wic...</td>\n",
              "    </tr>\n",
              "  </tbody>\n",
              "</table>\n",
              "</div>"
            ],
            "text/plain": [
              "      id                                        description\n",
              "0      1  active classic boxers   there   reason   boxer...\n",
              "1      2  active sport boxer briefs   skinning  glory re...\n",
              "2      3  active sport briefs   these superbreathable  f...\n",
              "18    19  cap   boxer briefs   on bivy  belay   form fit...\n",
              "164  165  barely bikini   better  going commando   petal...\n",
              "298  299  active boy shorts   we  worn  versatile  femin...\n",
              "299  300  active briefs   whether   beating  heat  bali ...\n",
              "317  318  barely hipster   the barely hipster  form fitt...\n",
              "493  494  active boxer briefs   a  fuss travel companion...\n",
              "494  495  active briefs   these featherweight  quick wic..."
            ]
          },
          "metadata": {},
          "execution_count": 95
        }
      ]
    },
    {
      "cell_type": "markdown",
      "metadata": {
        "id": "et-8xUulTEY5"
      },
      "source": [
        "##**Product Quantization**"
      ],
      "id": "et-8xUulTEY5"
    },
    {
      "cell_type": "markdown",
      "metadata": {
        "id": "G3lwWM_4m_mf"
      },
      "source": [
        ""
      ],
      "id": "G3lwWM_4m_mf"
    },
    {
      "cell_type": "code",
      "metadata": {
        "id": "a21d6e7f-3402-4d7d-8fbe-d48c0583ad6e"
      },
      "source": [
        "class PQIndex():\n",
        "    def __init__(self, vectors, labels):\n",
        "        self.dimention = vectors.shape[1]\n",
        "        self.vectors = vectors.astype('float32')\n",
        "        self.labels = labels\n",
        "\n",
        "\n",
        "    def build(self, number_of_partition=8, search_in_x_partitions=2, subvector_size=8):\n",
        "        m = 3\n",
        "        n_bits = 8\n",
        "        self.index = faiss.IndexPQ (self.dimention, m, n_bits)\n",
        "        self.index.train(self.vectors)\n",
        "        self.index.add(self.vectors)\n",
        "        \n",
        "    def query(self, vectors, k=10):\n",
        "        distances, indices = self.index.search(vectors, k) \n",
        "        return [self.labels[i] for i in indices[0]]"
      ],
      "id": "a21d6e7f-3402-4d7d-8fbe-d48c0583ad6e",
      "execution_count": 96,
      "outputs": []
    },
    {
      "cell_type": "markdown",
      "metadata": {
        "id": "2mDjJjMoTPJ1"
      },
      "source": [
        "The number of bits n_bits (bits allocated per subquantizer) must be equal to 8, 12 or 16. The dimension d should be a multiple of m (number of subquantizers). Therefore, we need to apply batch here since the vector dimension is 49811, which is a prime number."
      ],
      "id": "2mDjJjMoTPJ1"
    },
    {
      "cell_type": "code",
      "metadata": {
        "id": "99702791-439c-4094-994f-aaa58ef5913a"
      },
      "source": [
        "batch_vector = []\n",
        "for idx, arr in enumerate(vector):\n",
        "    batch_vector.append(list(np.append(arr, 0.0)))"
      ],
      "id": "99702791-439c-4094-994f-aaa58ef5913a",
      "execution_count": 97,
      "outputs": []
    },
    {
      "cell_type": "code",
      "metadata": {
        "id": "f04a77ef-cb3a-4c8c-b79b-e4517a9c90d5",
        "colab": {
          "base_uri": "https://localhost:8080/"
        },
        "outputId": "946ad399-1104-47fe-952b-e227e7f47635"
      },
      "source": [
        "%%time\n",
        "batch_vector = np.array(batch_vector)\n",
        "pq_index = PQIndex(batch_vector, dataset['id'])\n",
        "pq_index.build()"
      ],
      "id": "f04a77ef-cb3a-4c8c-b79b-e4517a9c90d5",
      "execution_count": 98,
      "outputs": [
        {
          "output_type": "stream",
          "name": "stdout",
          "text": [
            "CPU times: user 25.4 s, sys: 5.12 s, total: 30.5 s\n",
            "Wall time: 19 s\n"
          ]
        }
      ]
    },
    {
      "cell_type": "code",
      "metadata": {
        "id": "8dbf90f8-8c6e-489c-a22b-cee3a97b4a86",
        "colab": {
          "base_uri": "https://localhost:8080/",
          "height": 376
        },
        "outputId": "64cde18f-7c8c-4914-8220-a1912ec84ff2"
      },
      "source": [
        "query_index = 1\n",
        "print(f\"The most simillar to item {dataset['id'][query_index]} are:\")\n",
        "items_list = pq_index.query(np.array([batch_vector[query_index]]).astype('float32'))\n",
        "dataset.loc[dataset['id'].isin(items_list)]"
      ],
      "id": "8dbf90f8-8c6e-489c-a22b-cee3a97b4a86",
      "execution_count": 99,
      "outputs": [
        {
          "output_type": "stream",
          "name": "stdout",
          "text": [
            "The most simillar to item 2 are:\n"
          ]
        },
        {
          "output_type": "execute_result",
          "data": {
            "text/html": [
              "<div>\n",
              "<style scoped>\n",
              "    .dataframe tbody tr th:only-of-type {\n",
              "        vertical-align: middle;\n",
              "    }\n",
              "\n",
              "    .dataframe tbody tr th {\n",
              "        vertical-align: top;\n",
              "    }\n",
              "\n",
              "    .dataframe thead th {\n",
              "        text-align: right;\n",
              "    }\n",
              "</style>\n",
              "<table border=\"1\" class=\"dataframe\">\n",
              "  <thead>\n",
              "    <tr style=\"text-align: right;\">\n",
              "      <th></th>\n",
              "      <th>id</th>\n",
              "      <th>description</th>\n",
              "    </tr>\n",
              "  </thead>\n",
              "  <tbody>\n",
              "    <tr>\n",
              "      <th>1</th>\n",
              "      <td>2</td>\n",
              "      <td>active sport boxer briefs   skinning  glory re...</td>\n",
              "    </tr>\n",
              "    <tr>\n",
              "      <th>2</th>\n",
              "      <td>3</td>\n",
              "      <td>active sport briefs   these superbreathable  f...</td>\n",
              "    </tr>\n",
              "    <tr>\n",
              "      <th>10</th>\n",
              "      <td>11</td>\n",
              "      <td>baby sunshade top   soft  stretchy polyester f...</td>\n",
              "    </tr>\n",
              "    <tr>\n",
              "      <th>44</th>\n",
              "      <td>45</td>\n",
              "      <td>girl  boardie capris   built  two week camping...</td>\n",
              "    </tr>\n",
              "    <tr>\n",
              "      <th>58</th>\n",
              "      <td>59</td>\n",
              "      <td>borderless gi shorts   these shorts   mud  san...</td>\n",
              "    </tr>\n",
              "    <tr>\n",
              "      <th>226</th>\n",
              "      <td>227</td>\n",
              "      <td>s  sol patrol shirt   a shirt impossible  insu...</td>\n",
              "    </tr>\n",
              "    <tr>\n",
              "      <th>256</th>\n",
              "      <td>257</td>\n",
              "      <td>sol patrol shirt   go ahead  go bone fishing  ...</td>\n",
              "    </tr>\n",
              "    <tr>\n",
              "      <th>361</th>\n",
              "      <td>362</td>\n",
              "      <td>s  sol patrol shirt   in theory  chasing indon...</td>\n",
              "    </tr>\n",
              "    <tr>\n",
              "      <th>398</th>\n",
              "      <td>399</td>\n",
              "      <td>marlwalker pants   veterans   tropics know lon...</td>\n",
              "    </tr>\n",
              "    <tr>\n",
              "      <th>477</th>\n",
              "      <td>478</td>\n",
              "      <td>l  sol patrol shirt   two week boat trips  ind...</td>\n",
              "    </tr>\n",
              "  </tbody>\n",
              "</table>\n",
              "</div>"
            ],
            "text/plain": [
              "      id                                        description\n",
              "1      2  active sport boxer briefs   skinning  glory re...\n",
              "2      3  active sport briefs   these superbreathable  f...\n",
              "10    11  baby sunshade top   soft  stretchy polyester f...\n",
              "44    45  girl  boardie capris   built  two week camping...\n",
              "58    59  borderless gi shorts   these shorts   mud  san...\n",
              "226  227  s  sol patrol shirt   a shirt impossible  insu...\n",
              "256  257  sol patrol shirt   go ahead  go bone fishing  ...\n",
              "361  362  s  sol patrol shirt   in theory  chasing indon...\n",
              "398  399  marlwalker pants   veterans   tropics know lon...\n",
              "477  478  l  sol patrol shirt   two week boat trips  ind..."
            ]
          },
          "metadata": {},
          "execution_count": 99
        }
      ]
    },
    {
      "cell_type": "markdown",
      "metadata": {
        "id": "rM0gJOQJUmiO"
      },
      "source": [
        "##**Trees and Graphs**"
      ],
      "id": "rM0gJOQJUmiO"
    },
    {
      "cell_type": "code",
      "metadata": {
        "id": "13ca48e9-384a-49a7-b373-5254b448fe8a"
      },
      "source": [
        "import annoy"
      ],
      "id": "13ca48e9-384a-49a7-b373-5254b448fe8a",
      "execution_count": null,
      "outputs": []
    },
    {
      "cell_type": "code",
      "metadata": {
        "id": "3ad544cf-5f7d-4c04-9cc6-3ac839d6ea8c"
      },
      "source": [
        "class TreeGraphIndex():\n",
        "    def __init__(self, vectors, labels):\n",
        "        self.dimention = vectors[0].shape[0]\n",
        "        self.vectors = vectors.astype('float32')\n",
        "        self.labels = labels\n",
        "\n",
        "\n",
        "    def build(self, number_of_trees=5):\n",
        "        self.index = annoy.AnnoyIndex(self.dimention, metric='angular')\n",
        "        for i, vec in enumerate(self.vectors):\n",
        "            self.index.add_item(i, vec.tolist())\n",
        "        self.index.build(number_of_trees)\n",
        "        \n",
        "    def query(self, vector, k=10):\n",
        "        indices = self.index.get_nns_by_vector(vector.tolist(), k)\n",
        "        return [self.labels[i] for i in indices]"
      ],
      "id": "3ad544cf-5f7d-4c04-9cc6-3ac839d6ea8c",
      "execution_count": null,
      "outputs": []
    },
    {
      "cell_type": "code",
      "metadata": {
        "id": "ae21b5c0-b4fd-424a-818c-59fed2b237c3"
      },
      "source": [
        "%%time\n",
        "tg_index = TreeGraphIndex(vector, dataset['id'])\n",
        "tg_index.build()"
      ],
      "id": "ae21b5c0-b4fd-424a-818c-59fed2b237c3",
      "execution_count": null,
      "outputs": []
    },
    {
      "cell_type": "code",
      "metadata": {
        "id": "79ce91c3-554d-4465-8181-39b135dd59d8"
      },
      "source": [
        "query_index = 1\n",
        "print(f\"The most simillar to item {dataset['id'][query_index]} are:\")\n",
        "items_list = tg_index.query(vector[query_index])\n",
        "dataset.loc[dataset['id'].isin(items_list)]"
      ],
      "id": "79ce91c3-554d-4465-8181-39b135dd59d8",
      "execution_count": null,
      "outputs": []
    },
    {
      "cell_type": "markdown",
      "metadata": {
        "id": "cNzD-UDBUuOh"
      },
      "source": [
        "##**Hierarchical Navigable Small Worlds (HNSW)**"
      ],
      "id": "cNzD-UDBUuOh"
    },
    {
      "cell_type": "code",
      "metadata": {
        "id": "0fa3ae11-8f92-436e-b117-bc7bfec0de14"
      },
      "source": [
        "import nmslib"
      ],
      "id": "0fa3ae11-8f92-436e-b117-bc7bfec0de14",
      "execution_count": null,
      "outputs": []
    },
    {
      "cell_type": "code",
      "metadata": {
        "id": "d93e04c6-4ace-4569-8f4c-e0fc9f15bf23"
      },
      "source": [
        "class HNSWIndex():\n",
        "    def __init__(self, vectors, labels):\n",
        "        self.dimention = vectors[0].shape[0]\n",
        "        self.vectors = vectors.astype('float32')\n",
        "        self.labels = labels\n",
        "\n",
        "    def build(self):\n",
        "        self.index = nmslib.init(method='hnsw', space='cosinesimil')\n",
        "        self.index.addDataPointBatch(self.vectors)\n",
        "        self.index.createIndex({'post': 2})\n",
        "        \n",
        "    def query(self, vector, k=10):\n",
        "        indices = self.index.knnQuery(vector, k=k)\n",
        "        return [self.labels[i] for i in indices[0]]"
      ],
      "id": "d93e04c6-4ace-4569-8f4c-e0fc9f15bf23",
      "execution_count": null,
      "outputs": []
    },
    {
      "cell_type": "code",
      "metadata": {
        "id": "a2e8248d-d48d-4a68-8206-c4ec0cc88c2f",
        "colab": {
          "base_uri": "https://localhost:8080/",
          "height": 375
        },
        "outputId": "d9f9c329-7a1b-456a-dd76-d7bef9152c8b"
      },
      "source": [
        "%%time\n",
        "hnsw_index = HNSWIndex(vector, dataset['id'])\n",
        "hnsw_index.build()"
      ],
      "id": "a2e8248d-d48d-4a68-8206-c4ec0cc88c2f",
      "execution_count": 103,
      "outputs": [
        {
          "output_type": "error",
          "ename": "NameError",
          "evalue": "ignored",
          "traceback": [
            "\u001b[0;31m---------------------------------------------------------------------------\u001b[0m",
            "\u001b[0;31mNameError\u001b[0m                                 Traceback (most recent call last)",
            "\u001b[0;32m<ipython-input-103-d4c3b9f65b6b>\u001b[0m in \u001b[0;36m<module>\u001b[0;34m()\u001b[0m\n\u001b[0;32m----> 1\u001b[0;31m \u001b[0mget_ipython\u001b[0m\u001b[0;34m(\u001b[0m\u001b[0;34m)\u001b[0m\u001b[0;34m.\u001b[0m\u001b[0mrun_cell_magic\u001b[0m\u001b[0;34m(\u001b[0m\u001b[0;34m'time'\u001b[0m\u001b[0;34m,\u001b[0m \u001b[0;34m''\u001b[0m\u001b[0;34m,\u001b[0m \u001b[0;34m\"hnsw_index = HNSWIndex(vector, dataset['id'])\\nhnsw_index.build()\"\u001b[0m\u001b[0;34m)\u001b[0m\u001b[0;34m\u001b[0m\u001b[0;34m\u001b[0m\u001b[0m\n\u001b[0m",
            "\u001b[0;32m/usr/local/lib/python3.7/dist-packages/IPython/core/interactiveshell.py\u001b[0m in \u001b[0;36mrun_cell_magic\u001b[0;34m(self, magic_name, line, cell)\u001b[0m\n\u001b[1;32m   2115\u001b[0m             \u001b[0mmagic_arg_s\u001b[0m \u001b[0;34m=\u001b[0m \u001b[0mself\u001b[0m\u001b[0;34m.\u001b[0m\u001b[0mvar_expand\u001b[0m\u001b[0;34m(\u001b[0m\u001b[0mline\u001b[0m\u001b[0;34m,\u001b[0m \u001b[0mstack_depth\u001b[0m\u001b[0;34m)\u001b[0m\u001b[0;34m\u001b[0m\u001b[0;34m\u001b[0m\u001b[0m\n\u001b[1;32m   2116\u001b[0m             \u001b[0;32mwith\u001b[0m \u001b[0mself\u001b[0m\u001b[0;34m.\u001b[0m\u001b[0mbuiltin_trap\u001b[0m\u001b[0;34m:\u001b[0m\u001b[0;34m\u001b[0m\u001b[0;34m\u001b[0m\u001b[0m\n\u001b[0;32m-> 2117\u001b[0;31m                 \u001b[0mresult\u001b[0m \u001b[0;34m=\u001b[0m \u001b[0mfn\u001b[0m\u001b[0;34m(\u001b[0m\u001b[0mmagic_arg_s\u001b[0m\u001b[0;34m,\u001b[0m \u001b[0mcell\u001b[0m\u001b[0;34m)\u001b[0m\u001b[0;34m\u001b[0m\u001b[0;34m\u001b[0m\u001b[0m\n\u001b[0m\u001b[1;32m   2118\u001b[0m             \u001b[0;32mreturn\u001b[0m \u001b[0mresult\u001b[0m\u001b[0;34m\u001b[0m\u001b[0;34m\u001b[0m\u001b[0m\n\u001b[1;32m   2119\u001b[0m \u001b[0;34m\u001b[0m\u001b[0m\n",
            "\u001b[0;32m<decorator-gen-53>\u001b[0m in \u001b[0;36mtime\u001b[0;34m(self, line, cell, local_ns)\u001b[0m\n",
            "\u001b[0;32m/usr/local/lib/python3.7/dist-packages/IPython/core/magic.py\u001b[0m in \u001b[0;36m<lambda>\u001b[0;34m(f, *a, **k)\u001b[0m\n\u001b[1;32m    186\u001b[0m     \u001b[0;31m# but it's overkill for just that one bit of state.\u001b[0m\u001b[0;34m\u001b[0m\u001b[0;34m\u001b[0m\u001b[0;34m\u001b[0m\u001b[0m\n\u001b[1;32m    187\u001b[0m     \u001b[0;32mdef\u001b[0m \u001b[0mmagic_deco\u001b[0m\u001b[0;34m(\u001b[0m\u001b[0marg\u001b[0m\u001b[0;34m)\u001b[0m\u001b[0;34m:\u001b[0m\u001b[0;34m\u001b[0m\u001b[0;34m\u001b[0m\u001b[0m\n\u001b[0;32m--> 188\u001b[0;31m         \u001b[0mcall\u001b[0m \u001b[0;34m=\u001b[0m \u001b[0;32mlambda\u001b[0m \u001b[0mf\u001b[0m\u001b[0;34m,\u001b[0m \u001b[0;34m*\u001b[0m\u001b[0ma\u001b[0m\u001b[0;34m,\u001b[0m \u001b[0;34m**\u001b[0m\u001b[0mk\u001b[0m\u001b[0;34m:\u001b[0m \u001b[0mf\u001b[0m\u001b[0;34m(\u001b[0m\u001b[0;34m*\u001b[0m\u001b[0ma\u001b[0m\u001b[0;34m,\u001b[0m \u001b[0;34m**\u001b[0m\u001b[0mk\u001b[0m\u001b[0;34m)\u001b[0m\u001b[0;34m\u001b[0m\u001b[0;34m\u001b[0m\u001b[0m\n\u001b[0m\u001b[1;32m    189\u001b[0m \u001b[0;34m\u001b[0m\u001b[0m\n\u001b[1;32m    190\u001b[0m         \u001b[0;32mif\u001b[0m \u001b[0mcallable\u001b[0m\u001b[0;34m(\u001b[0m\u001b[0marg\u001b[0m\u001b[0;34m)\u001b[0m\u001b[0;34m:\u001b[0m\u001b[0;34m\u001b[0m\u001b[0;34m\u001b[0m\u001b[0m\n",
            "\u001b[0;32m/usr/local/lib/python3.7/dist-packages/IPython/core/magics/execution.py\u001b[0m in \u001b[0;36mtime\u001b[0;34m(self, line, cell, local_ns)\u001b[0m\n\u001b[1;32m   1191\u001b[0m         \u001b[0;32melse\u001b[0m\u001b[0;34m:\u001b[0m\u001b[0;34m\u001b[0m\u001b[0;34m\u001b[0m\u001b[0m\n\u001b[1;32m   1192\u001b[0m             \u001b[0mst\u001b[0m \u001b[0;34m=\u001b[0m \u001b[0mclock2\u001b[0m\u001b[0;34m(\u001b[0m\u001b[0;34m)\u001b[0m\u001b[0;34m\u001b[0m\u001b[0;34m\u001b[0m\u001b[0m\n\u001b[0;32m-> 1193\u001b[0;31m             \u001b[0mexec\u001b[0m\u001b[0;34m(\u001b[0m\u001b[0mcode\u001b[0m\u001b[0;34m,\u001b[0m \u001b[0mglob\u001b[0m\u001b[0;34m,\u001b[0m \u001b[0mlocal_ns\u001b[0m\u001b[0;34m)\u001b[0m\u001b[0;34m\u001b[0m\u001b[0;34m\u001b[0m\u001b[0m\n\u001b[0m\u001b[1;32m   1194\u001b[0m             \u001b[0mend\u001b[0m \u001b[0;34m=\u001b[0m \u001b[0mclock2\u001b[0m\u001b[0;34m(\u001b[0m\u001b[0;34m)\u001b[0m\u001b[0;34m\u001b[0m\u001b[0;34m\u001b[0m\u001b[0m\n\u001b[1;32m   1195\u001b[0m             \u001b[0mout\u001b[0m \u001b[0;34m=\u001b[0m \u001b[0;32mNone\u001b[0m\u001b[0;34m\u001b[0m\u001b[0;34m\u001b[0m\u001b[0m\n",
            "\u001b[0;32m<timed exec>\u001b[0m in \u001b[0;36m<module>\u001b[0;34m()\u001b[0m\n",
            "\u001b[0;31mNameError\u001b[0m: name 'HNSWIndex' is not defined"
          ]
        }
      ]
    },
    {
      "cell_type": "code",
      "metadata": {
        "id": "feeb2245-60aa-4ea6-b658-a9351e6469c8",
        "colab": {
          "base_uri": "https://localhost:8080/",
          "height": 232
        },
        "outputId": "7a614daa-fa96-45f4-840d-ba8e042bdbbe"
      },
      "source": [
        "query_index = 1\n",
        "print(f\"The most simillar to item {dataset['id'][query_index]} are:\")\n",
        "items_list = hnsw_index.query(vector[query_index])\n",
        "dataset.loc[dataset['id'].isin(items_list)]"
      ],
      "id": "feeb2245-60aa-4ea6-b658-a9351e6469c8",
      "execution_count": 102,
      "outputs": [
        {
          "output_type": "stream",
          "name": "stdout",
          "text": [
            "The most simillar to item 2 are:\n"
          ]
        },
        {
          "output_type": "error",
          "ename": "NameError",
          "evalue": "ignored",
          "traceback": [
            "\u001b[0;31m---------------------------------------------------------------------------\u001b[0m",
            "\u001b[0;31mNameError\u001b[0m                                 Traceback (most recent call last)",
            "\u001b[0;32m<ipython-input-102-48e94186ff86>\u001b[0m in \u001b[0;36m<module>\u001b[0;34m()\u001b[0m\n\u001b[1;32m      1\u001b[0m \u001b[0mquery_index\u001b[0m \u001b[0;34m=\u001b[0m \u001b[0;36m1\u001b[0m\u001b[0;34m\u001b[0m\u001b[0;34m\u001b[0m\u001b[0m\n\u001b[1;32m      2\u001b[0m \u001b[0mprint\u001b[0m\u001b[0;34m(\u001b[0m\u001b[0;34mf\"The most simillar to item {dataset['id'][query_index]} are:\"\u001b[0m\u001b[0;34m)\u001b[0m\u001b[0;34m\u001b[0m\u001b[0;34m\u001b[0m\u001b[0m\n\u001b[0;32m----> 3\u001b[0;31m \u001b[0mitems_list\u001b[0m \u001b[0;34m=\u001b[0m \u001b[0mhnsw_index\u001b[0m\u001b[0;34m.\u001b[0m\u001b[0mquery\u001b[0m\u001b[0;34m(\u001b[0m\u001b[0mvector\u001b[0m\u001b[0;34m[\u001b[0m\u001b[0mquery_index\u001b[0m\u001b[0;34m]\u001b[0m\u001b[0;34m)\u001b[0m\u001b[0;34m\u001b[0m\u001b[0;34m\u001b[0m\u001b[0m\n\u001b[0m\u001b[1;32m      4\u001b[0m \u001b[0mdataset\u001b[0m\u001b[0;34m.\u001b[0m\u001b[0mloc\u001b[0m\u001b[0;34m[\u001b[0m\u001b[0mdataset\u001b[0m\u001b[0;34m[\u001b[0m\u001b[0;34m'id'\u001b[0m\u001b[0;34m]\u001b[0m\u001b[0;34m.\u001b[0m\u001b[0misin\u001b[0m\u001b[0;34m(\u001b[0m\u001b[0mitems_list\u001b[0m\u001b[0;34m)\u001b[0m\u001b[0;34m]\u001b[0m\u001b[0;34m\u001b[0m\u001b[0;34m\u001b[0m\u001b[0m\n",
            "\u001b[0;31mNameError\u001b[0m: name 'hnsw_index' is not defined"
          ]
        }
      ]
    },
    {
      "cell_type": "markdown",
      "metadata": {
        "id": "HfOs8oNKU5Pl"
      },
      "source": [
        "#**Summary**"
      ],
      "id": "HfOs8oNKU5Pl"
    },
    {
      "cell_type": "markdown",
      "metadata": {
        "id": "BGUAtvooVJZm"
      },
      "source": [
        "Locality-sensitive hashing \n",
        "* Library : faiss.IndexLSH\n",
        "* Wall time : 401 ms \n",
        "\n",
        "Exhaustive Search\n",
        "* Library : faiss.IndexFlatL2\n",
        "* Wall time : 97.2 ms **(fastest)**\n",
        "\n",
        "Product Quantization \n",
        "* Library : faiss.IndexPQ\n",
        "* Wall time : 3min 44s **(longest)**\n",
        "\n",
        "Trees and Graphs \n",
        "* Library : annoy.AnnoyIndex\n",
        "* Wall time : 1.8 s\n",
        "\n",
        "Hierarchical Navigable Small Worlds (HNSW) \n",
        "* Library : nmslib.init(method='hnsw', space='cosinesimil'))\n",
        "* Wall time : 6.81 s\n"
      ],
      "id": "BGUAtvooVJZm"
    }
  ]
}